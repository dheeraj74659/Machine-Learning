{
  "nbformat": 4,
  "nbformat_minor": 0,
  "metadata": {
    "kernelspec": {
      "display_name": "Python 3",
      "language": "python",
      "name": "python3"
    },
    "language_info": {
      "codemirror_mode": {
        "name": "ipython",
        "version": 3
      },
      "file_extension": ".py",
      "mimetype": "text/x-python",
      "name": "python",
      "nbconvert_exporter": "python",
      "pygments_lexer": "ipython3",
      "version": "3.8.1"
    },
    "colab": {
      "name": "Iris Dataset.ipynb",
      "provenance": [],
      "include_colab_link": true
    }
  },
  "cells": [
    {
      "cell_type": "markdown",
      "metadata": {
        "id": "view-in-github",
        "colab_type": "text"
      },
      "source": [
        "<a href=\"https://colab.research.google.com/github/dheeraj74659/Machine-Learning/blob/master/Iris%20Dataset.ipynb\" target=\"_parent\"><img src=\"https://colab.research.google.com/assets/colab-badge.svg\" alt=\"Open In Colab\"/></a>"
      ]
    },
    {
      "cell_type": "markdown",
      "metadata": {
        "id": "FL3ozevp1egA"
      },
      "source": [
        "# Iris Dataset\n",
        "\n",
        "Analysing the Iris dataset <br>\n",
        "Applying machine learning Algorithm on Dataset"
      ]
    },
    {
      "cell_type": "code",
      "metadata": {
        "id": "s_rMjzew1egI"
      },
      "source": [
        "# Importing the required libraries\n",
        "import pandas as pd\n",
        "\n",
        "# For ploting the graph on the data set\n",
        "import matplotlib.pyplot as plt"
      ],
      "execution_count": null,
      "outputs": []
    },
    {
      "cell_type": "code",
      "metadata": {
        "id": "vp52Izk11egL",
        "outputId": "69092186-a6d7-4c39-db99-39dfae25e3cd"
      },
      "source": [
        "# Importing the dataset/dataframe\n",
        "\n",
        "# Setting up the column name\n",
        "clm_names = ['sepal length', 'sepal width', 'petal length', 'petal width', 'class']\n",
        "\n",
        "#Importing the Dataset\n",
        "df = pd.read_csv(\"Datasets/iris.csv\", names = clm_names)\n",
        "\n",
        "df.head()"
      ],
      "execution_count": null,
      "outputs": [
        {
          "output_type": "execute_result",
          "data": {
            "text/html": [
              "<div>\n",
              "<style scoped>\n",
              "    .dataframe tbody tr th:only-of-type {\n",
              "        vertical-align: middle;\n",
              "    }\n",
              "\n",
              "    .dataframe tbody tr th {\n",
              "        vertical-align: top;\n",
              "    }\n",
              "\n",
              "    .dataframe thead th {\n",
              "        text-align: right;\n",
              "    }\n",
              "</style>\n",
              "<table border=\"1\" class=\"dataframe\">\n",
              "  <thead>\n",
              "    <tr style=\"text-align: right;\">\n",
              "      <th></th>\n",
              "      <th>sepal length</th>\n",
              "      <th>sepal width</th>\n",
              "      <th>petal length</th>\n",
              "      <th>petal width</th>\n",
              "      <th>class</th>\n",
              "    </tr>\n",
              "  </thead>\n",
              "  <tbody>\n",
              "    <tr>\n",
              "      <th>0</th>\n",
              "      <td>5.1</td>\n",
              "      <td>3.5</td>\n",
              "      <td>1.4</td>\n",
              "      <td>0.2</td>\n",
              "      <td>Iris-setosa</td>\n",
              "    </tr>\n",
              "    <tr>\n",
              "      <th>1</th>\n",
              "      <td>4.9</td>\n",
              "      <td>3.0</td>\n",
              "      <td>1.4</td>\n",
              "      <td>0.2</td>\n",
              "      <td>Iris-setosa</td>\n",
              "    </tr>\n",
              "    <tr>\n",
              "      <th>2</th>\n",
              "      <td>4.7</td>\n",
              "      <td>3.2</td>\n",
              "      <td>1.3</td>\n",
              "      <td>0.2</td>\n",
              "      <td>Iris-setosa</td>\n",
              "    </tr>\n",
              "    <tr>\n",
              "      <th>3</th>\n",
              "      <td>4.6</td>\n",
              "      <td>3.1</td>\n",
              "      <td>1.5</td>\n",
              "      <td>0.2</td>\n",
              "      <td>Iris-setosa</td>\n",
              "    </tr>\n",
              "    <tr>\n",
              "      <th>4</th>\n",
              "      <td>5.0</td>\n",
              "      <td>3.6</td>\n",
              "      <td>1.4</td>\n",
              "      <td>0.2</td>\n",
              "      <td>Iris-setosa</td>\n",
              "    </tr>\n",
              "  </tbody>\n",
              "</table>\n",
              "</div>"
            ],
            "text/plain": [
              "   sepal length  sepal width  petal length  petal width        class\n",
              "0           5.1          3.5           1.4          0.2  Iris-setosa\n",
              "1           4.9          3.0           1.4          0.2  Iris-setosa\n",
              "2           4.7          3.2           1.3          0.2  Iris-setosa\n",
              "3           4.6          3.1           1.5          0.2  Iris-setosa\n",
              "4           5.0          3.6           1.4          0.2  Iris-setosa"
            ]
          },
          "metadata": {
            "tags": []
          },
          "execution_count": 2
        }
      ]
    },
    {
      "cell_type": "code",
      "metadata": {
        "id": "IZkyOk7U1egO",
        "outputId": "ba09749e-9f35-4641-dcc9-980d61bcb546"
      },
      "source": [
        "# Checking the data types\n",
        "df.dtypes"
      ],
      "execution_count": null,
      "outputs": [
        {
          "output_type": "execute_result",
          "data": {
            "text/plain": [
              "sepal length    float64\n",
              "sepal width     float64\n",
              "petal length    float64\n",
              "petal width     float64\n",
              "class            object\n",
              "dtype: object"
            ]
          },
          "metadata": {
            "tags": []
          },
          "execution_count": 3
        }
      ]
    },
    {
      "cell_type": "code",
      "metadata": {
        "id": "bFEk6Ito1egQ",
        "outputId": "d8835bb6-05d1-466e-b92e-a696484ca4f9"
      },
      "source": [
        "#Viewiing the description about the dataset\n",
        "df.describe()"
      ],
      "execution_count": null,
      "outputs": [
        {
          "output_type": "execute_result",
          "data": {
            "text/html": [
              "<div>\n",
              "<style scoped>\n",
              "    .dataframe tbody tr th:only-of-type {\n",
              "        vertical-align: middle;\n",
              "    }\n",
              "\n",
              "    .dataframe tbody tr th {\n",
              "        vertical-align: top;\n",
              "    }\n",
              "\n",
              "    .dataframe thead th {\n",
              "        text-align: right;\n",
              "    }\n",
              "</style>\n",
              "<table border=\"1\" class=\"dataframe\">\n",
              "  <thead>\n",
              "    <tr style=\"text-align: right;\">\n",
              "      <th></th>\n",
              "      <th>sepal length</th>\n",
              "      <th>sepal width</th>\n",
              "      <th>petal length</th>\n",
              "      <th>petal width</th>\n",
              "    </tr>\n",
              "  </thead>\n",
              "  <tbody>\n",
              "    <tr>\n",
              "      <th>count</th>\n",
              "      <td>150.000000</td>\n",
              "      <td>150.000000</td>\n",
              "      <td>150.000000</td>\n",
              "      <td>150.000000</td>\n",
              "    </tr>\n",
              "    <tr>\n",
              "      <th>mean</th>\n",
              "      <td>5.843333</td>\n",
              "      <td>3.054000</td>\n",
              "      <td>3.758667</td>\n",
              "      <td>1.198667</td>\n",
              "    </tr>\n",
              "    <tr>\n",
              "      <th>std</th>\n",
              "      <td>0.828066</td>\n",
              "      <td>0.433594</td>\n",
              "      <td>1.764420</td>\n",
              "      <td>0.763161</td>\n",
              "    </tr>\n",
              "    <tr>\n",
              "      <th>min</th>\n",
              "      <td>4.300000</td>\n",
              "      <td>2.000000</td>\n",
              "      <td>1.000000</td>\n",
              "      <td>0.100000</td>\n",
              "    </tr>\n",
              "    <tr>\n",
              "      <th>25%</th>\n",
              "      <td>5.100000</td>\n",
              "      <td>2.800000</td>\n",
              "      <td>1.600000</td>\n",
              "      <td>0.300000</td>\n",
              "    </tr>\n",
              "    <tr>\n",
              "      <th>50%</th>\n",
              "      <td>5.800000</td>\n",
              "      <td>3.000000</td>\n",
              "      <td>4.350000</td>\n",
              "      <td>1.300000</td>\n",
              "    </tr>\n",
              "    <tr>\n",
              "      <th>75%</th>\n",
              "      <td>6.400000</td>\n",
              "      <td>3.300000</td>\n",
              "      <td>5.100000</td>\n",
              "      <td>1.800000</td>\n",
              "    </tr>\n",
              "    <tr>\n",
              "      <th>max</th>\n",
              "      <td>7.900000</td>\n",
              "      <td>4.400000</td>\n",
              "      <td>6.900000</td>\n",
              "      <td>2.500000</td>\n",
              "    </tr>\n",
              "  </tbody>\n",
              "</table>\n",
              "</div>"
            ],
            "text/plain": [
              "       sepal length  sepal width  petal length  petal width\n",
              "count    150.000000   150.000000    150.000000   150.000000\n",
              "mean       5.843333     3.054000      3.758667     1.198667\n",
              "std        0.828066     0.433594      1.764420     0.763161\n",
              "min        4.300000     2.000000      1.000000     0.100000\n",
              "25%        5.100000     2.800000      1.600000     0.300000\n",
              "50%        5.800000     3.000000      4.350000     1.300000\n",
              "75%        6.400000     3.300000      5.100000     1.800000\n",
              "max        7.900000     4.400000      6.900000     2.500000"
            ]
          },
          "metadata": {
            "tags": []
          },
          "execution_count": 4
        }
      ]
    },
    {
      "cell_type": "code",
      "metadata": {
        "id": "GIkWGYPg1egR",
        "outputId": "49ca9cde-4160-43fd-f666-844d1bb0c79e"
      },
      "source": [
        "# Plotting the graph on the dataset\n",
        "grph = ['line', 'box', 'kde']\n",
        "\n",
        "for i in range(len(grph)):\n",
        "    df.plot(kind = grph[i])"
      ],
      "execution_count": null,
      "outputs": [
        {
          "output_type": "display_data",
          "data": {
            "image/png": "[encoded data removed]",
            "text/plain": [
              "<Figure size 432x288 with 1 Axes>"
            ]
          },
          "metadata": {
            "tags": [],
            "needs_background": "light"
          }
        },
        {
          "output_type": "display_data",
          "data": {
            "image/png": "[encoded data removed]",
            "text/plain": [
              "<Figure size 432x288 with 1 Axes>"
            ]
          },
          "metadata": {
            "tags": [],
            "needs_background": "light"
          }
        },
        {
          "output_type": "display_data",
          "data": {
            "image/png": "[encoded data removed]",
            "text/plain": [
              "<Figure size 432x288 with 1 Axes>"
            ]
          },
          "metadata": {
            "tags": [],
            "needs_background": "light"
          }
        }
      ]
    },
    {
      "cell_type": "markdown",
      "metadata": {
        "id": "rAgw3TKt1egT"
      },
      "source": [
        "## Applying ML for obtaining results\n",
        "\n",
        "### 1. KNN Classifier"
      ]
    },
    {
      "cell_type": "code",
      "metadata": {
        "id": "RBDnT3v21egU"
      },
      "source": [
        "# Importing libraries used\n",
        "from sklearn.preprocessing import LabelEncoder\n",
        "from sklearn.model_selection import train_test_split\n",
        "from sklearn.neighbors import KNeighborsClassifier\n",
        "\n",
        "# For Cheking the accuray of the algorithm\n",
        "from sklearn.metrics import accuracy_score"
      ],
      "execution_count": null,
      "outputs": []
    },
    {
      "cell_type": "code",
      "metadata": {
        "id": "kOsHX3aJ1egW"
      },
      "source": [
        "# First applying knn algorithm for classification problem to determine the class\n",
        "\n",
        "#dividing the data into classes and features\n",
        "clas_c = df['class']\n",
        "\n",
        "feat_c = df.iloc[:,:4]"
      ],
      "execution_count": null,
      "outputs": []
    },
    {
      "cell_type": "code",
      "metadata": {
        "id": "WkJ5r0pv1egX"
      },
      "source": [
        "# Encoding the classes using label encoder\n",
        "lbl = LabelEncoder()\n",
        "clas_c = lbl.fit_transform(clas_c)"
      ],
      "execution_count": null,
      "outputs": []
    },
    {
      "cell_type": "code",
      "metadata": {
        "id": "gdrrFJRX1egZ"
      },
      "source": [
        "# Spliting the data into training and testing data\n",
        "feat_train, feat_test, clas_train, clas_test = train_test_split(feat_c, clas_c, test_size = 0.2)"
      ],
      "execution_count": null,
      "outputs": []
    },
    {
      "cell_type": "code",
      "metadata": {
        "id": "6b52uKWt1ega"
      },
      "source": [
        "# Training the algorithm with train data\n",
        "knn = KNeighborsClassifier(n_neighbors=7)\n",
        "\n",
        "knn.fit(feat_train, clas_train)\n",
        "\n",
        "clas_pred = knn.predict(feat_test)"
      ],
      "execution_count": null,
      "outputs": []
    },
    {
      "cell_type": "code",
      "metadata": {
        "id": "v0cr-3vp1egc",
        "outputId": "76bfcb5d-94c2-4a83-fd59-7bba71e5d14c"
      },
      "source": [
        "clas_pred"
      ],
      "execution_count": null,
      "outputs": [
        {
          "output_type": "execute_result",
          "data": {
            "text/plain": [
              "array([0, 1, 2, 2, 2, 1, 0, 0, 2, 1, 1, 1, 0, 1, 1, 1, 1, 1, 2, 2, 1, 0,\n",
              "       0, 0, 0, 2, 2, 1, 2, 0])"
            ]
          },
          "metadata": {
            "tags": []
          },
          "execution_count": 11
        }
      ]
    },
    {
      "cell_type": "code",
      "metadata": {
        "id": "r_oR7dt81egd",
        "outputId": "d0429fe3-2000-44b3-e99b-b2e055c012a3"
      },
      "source": [
        "# Cheking the accuray of the algorithm\n",
        "accuracy_score(clas_test, clas_pred)"
      ],
      "execution_count": null,
      "outputs": [
        {
          "output_type": "execute_result",
          "data": {
            "text/plain": [
              "1.0"
            ]
          },
          "metadata": {
            "tags": []
          },
          "execution_count": 12
        }
      ]
    },
    {
      "cell_type": "markdown",
      "metadata": {
        "id": "5xHo36iy1ege"
      },
      "source": [
        "### 2. KNN regressior"
      ]
    },
    {
      "cell_type": "code",
      "metadata": {
        "id": "1e26eFKS1egf"
      },
      "source": [
        "# Importing libraries use\n",
        "from sklearn.neighbors import KNeighborsRegressor\n",
        "\n",
        "# For Cheking the accuray of the algorithm\n",
        "from sklearn.metrics import r2_score"
      ],
      "execution_count": null,
      "outputs": []
    },
    {
      "cell_type": "code",
      "metadata": {
        "id": "oreVpFX61egg"
      },
      "source": [
        "# First applying knn algorithm for classification problem to determine the class\n",
        "\n",
        "#dividing the data into classes and features\n",
        "clas_r = df['sepal length']\n",
        "\n",
        "feat_r = df.iloc[:,1:]"
      ],
      "execution_count": null,
      "outputs": []
    },
    {
      "cell_type": "code",
      "metadata": {
        "id": "TGVuGYkF1egh"
      },
      "source": [
        "# Encoding the classes using label encoder\n",
        "lbl = LabelEncoder()\n",
        "feat_r['class'] = lbl.fit_transform(feat_r['class'])"
      ],
      "execution_count": null,
      "outputs": []
    },
    {
      "cell_type": "code",
      "metadata": {
        "id": "LDeVyVw31egh"
      },
      "source": [
        "# Spliting the data into training and testing data\n",
        "feat_train, feat_test, clas_train, clas_test = train_test_split(feat_r, clas_r, test_size = 0.2)"
      ],
      "execution_count": null,
      "outputs": []
    },
    {
      "cell_type": "code",
      "metadata": {
        "id": "rut4be6W1egi"
      },
      "source": [
        "# Training the algorithm with train data\n",
        "knnr = KNeighborsRegressor(n_neighbors=7)\n",
        "\n",
        "knnr.fit(feat_train, clas_train)\n",
        "\n",
        "clas_pred = knnr.predict(feat_test)"
      ],
      "execution_count": null,
      "outputs": []
    },
    {
      "cell_type": "code",
      "metadata": {
        "id": "I5RsS3871egj",
        "outputId": "39f99501-2e14-43ac-9ca9-4d3a550db7b2"
      },
      "source": [
        "clas_pred"
      ],
      "execution_count": null,
      "outputs": [
        {
          "output_type": "execute_result",
          "data": {
            "text/plain": [
              "array([6.12857143, 5.91428571, 6.2       , 5.3       , 5.02857143,\n",
              "       4.62857143, 6.65714286, 5.3       , 4.74285714, 5.27142857,\n",
              "       6.57142857, 7.35714286, 6.48571429, 6.65714286, 7.17142857,\n",
              "       4.8       , 6.64285714, 6.8       , 6.15714286, 5.74285714,\n",
              "       5.62857143, 5.02857143, 5.15714286, 6.34285714, 5.38571429,\n",
              "       6.54285714, 6.3       , 6.64285714, 6.17142857, 6.34285714])"
            ]
          },
          "metadata": {
            "tags": []
          },
          "execution_count": 18
        }
      ]
    },
    {
      "cell_type": "code",
      "metadata": {
        "id": "oAsCD0fK1egk",
        "outputId": "2e86f841-026e-4bb2-eb0b-2b9ac564dc0b"
      },
      "source": [
        "# Cheking the accuray of the algorithm\n",
        "r2_score(clas_test, clas_pred)"
      ],
      "execution_count": null,
      "outputs": [
        {
          "output_type": "execute_result",
          "data": {
            "text/plain": [
              "0.8416838283112943"
            ]
          },
          "metadata": {
            "tags": []
          },
          "execution_count": 19
        }
      ]
    },
    {
      "cell_type": "markdown",
      "metadata": {
        "id": "lCBjcYPS1egl"
      },
      "source": [
        "### 3. Applying Naive Bayes Theorem"
      ]
    },
    {
      "cell_type": "code",
      "metadata": {
        "id": "XEKUCugf1egl"
      },
      "source": [
        "# Training the algorithm with train data\n",
        "from sklearn.naive_bayes import GaussianNB"
      ],
      "execution_count": null,
      "outputs": []
    },
    {
      "cell_type": "code",
      "metadata": {
        "id": "yi6-6IQR1egm"
      },
      "source": [
        "# Encoding the classes using label encoder\n",
        "lbl = LabelEncoder()\n",
        "clas_c = lbl.fit_transform(clas_c)"
      ],
      "execution_count": null,
      "outputs": []
    },
    {
      "cell_type": "code",
      "metadata": {
        "scrolled": true,
        "id": "zAQ9iTmP1egn"
      },
      "source": [
        "# Spliting the data into training and testing data\n",
        "feat_train, feat_test, clas_train, clas_test = train_test_split(feat_c, clas_c, test_size = 0.2)"
      ],
      "execution_count": null,
      "outputs": []
    },
    {
      "cell_type": "code",
      "metadata": {
        "id": "yjMOQmFC1egn",
        "outputId": "8a4cc720-56ae-45aa-e594-8e2fe107ba3a"
      },
      "source": [
        "gnb = GaussianNB()\n",
        "\n",
        "gnb.fit(feat_train, clas_train)\n",
        "\n",
        "clas_pred = gnb.predict(feat_test)\n",
        "\n",
        "accuracy_score(clas_test, clas_pred)"
      ],
      "execution_count": null,
      "outputs": [
        {
          "output_type": "execute_result",
          "data": {
            "text/plain": [
              "1.0"
            ]
          },
          "metadata": {
            "tags": []
          },
          "execution_count": 23
        }
      ]
    }
  ]
}